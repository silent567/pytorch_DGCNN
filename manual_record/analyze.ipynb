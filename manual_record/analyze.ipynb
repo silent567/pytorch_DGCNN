{
 "cells": [
  {
   "cell_type": "code",
   "execution_count": 2,
   "metadata": {},
   "outputs": [],
   "source": [
    "import os\n",
    "import numpy as np\n",
    "import matplotlib.pyplot as plt"
   ]
  },
  {
   "cell_type": "code",
   "execution_count": 4,
   "metadata": {},
   "outputs": [
    {
     "name": "stdout",
     "output_type": "stream",
     "text": [
      "MUTAG\n",
      "<filter object at 0x7f89e8e505f8>\n",
      "(86, 13)\n",
      "[1.00000000e-04 2.00000000e+02 1.00000000e-06 0.00000000e+00\n",
      " 1.00000000e+00 3.16227766e+01 3.16227766e+00 3.00000000e+00\n",
      " 1.00000000e+00 1.00000000e+00 1.00000000e+00 1.00000000e+00\n",
      " 7.88888889e-01]\n",
      "PTC\n",
      "<filter object at 0x7f89e8eea3c8>\n",
      "(157, 13)\n",
      "[3.16227766e-04 1.00000000e+02 1.00000000e-04 1.00000000e+00\n",
      " 0.00000000e+00 3.16227766e+01 3.16227766e+00 2.00000000e+00\n",
      " 1.00000000e+00 1.00000000e+00 1.00000000e+00 1.00000000e+00\n",
      " 6.05882353e-01]\n",
      "PROTEINS\n",
      "<filter object at 0x7f89e8e50630>\n",
      "(7, 13)\n",
      "[1.00000000e-03 2.00000000e+02 1.00000000e-04 1.00000000e+00\n",
      " 1.00000000e+00 1.00000000e+01 1.00000000e+00 1.00000000e+00\n",
      " 1.00000000e+00 0.00000000e+00 1.00000000e+00 1.00000000e+00\n",
      " 7.08108108e-01]\n",
      "NCI1\n",
      "<filter object at 0x7f89e8e50a20>\n",
      "(10, 13)\n",
      "[3.16227766e-04 2.00000000e+02 0.00000000e+00 0.00000000e+00\n",
      " 0.00000000e+00 3.16227766e+01 3.16227766e+00 2.00000000e+00\n",
      " 1.00000000e+00 1.00000000e+00 1.00000000e+00 1.00000000e+00\n",
      " 6.72262774e-01]\n",
      "NCI109\n",
      "<filter object at 0x7f89e8e50978>\n",
      "(10, 13)\n",
      "[3.16227766e-04 2.00000000e+02 0.00000000e+00 0.00000000e+00\n",
      " 1.00000000e+00 3.16227766e+01 1.00000000e+00 2.00000000e+00\n",
      " 1.00000000e+00 0.00000000e+00 1.00000000e+00 1.00000000e+00\n",
      " 6.79611650e-01]\n",
      "COLLAB\n",
      "<filter object at 0x7f89e8e50a58>\n",
      "(0, 13)\n",
      "IMDBBINARY\n",
      "<filter object at 0x7f89e8e50b38>\n",
      "(50, 13)\n",
      "[3.16227766e-04 1.00000000e+02 1.00000000e-05 1.00000000e+00\n",
      " 0.00000000e+00 1.00000000e+01 3.16227766e+00 1.00000000e+00\n",
      " 1.00000000e+00 0.00000000e+00 1.00000000e+00 1.00000000e+00\n",
      " 7.10000000e-01]\n",
      "IMDBMULTI\n",
      "<filter object at 0x7f89e8e50a58>\n",
      "(30, 13)\n",
      "[3.16227766e-03 3.00000000e+02 0.00000000e+00 1.00000000e+00\n",
      " 0.00000000e+00 3.16227766e+01 1.00000000e+00 1.00000000e+00\n",
      " 1.00000000e+00 1.00000000e+00 1.00000000e+00 1.00000000e+00\n",
      " 4.80666667e-01]\n",
      "DD\n",
      "<filter object at 0x7f89e8e50860>\n",
      "(7, 13)\n",
      "[3.16227766e-04 2.00000000e+02 1.00000000e-05 1.00000000e+00\n",
      " 0.00000000e+00 3.16227766e+01 3.16227766e+00 1.00000000e+00\n",
      " 1.00000000e+00 1.00000000e+00 1.00000000e+00 1.00000000e+00\n",
      " 6.47863248e-01]\n",
      "ENZYMES\n",
      "<filter object at 0x7f89e8e50a58>\n",
      "(92, 13)\n",
      "[3.16227766e-04 3.00000000e+02 1.00000000e-06 0.00000000e+00\n",
      " 1.00000000e+00 3.16227766e+01 1.00000000e+00 3.00000000e+00\n",
      " 1.00000000e+00 0.00000000e+00 1.00000000e+00 1.00000000e+00\n",
      " 3.60000000e-01]\n"
     ]
    }
   ],
   "source": [
    "dataset_list = ['MUTAG','PTC','PROTEINS','NCI1','NCI109','COLLAB','IMDBBINARY','IMDBMULTI','DD','ENZYMES']\n",
    "for i,dataset_name in enumerate(dataset_list):\n",
    "    try:\n",
    "        print(dataset_name)\n",
    "        model_name = 'FastMultiAttPool'\n",
    "        filenames = filter(lambda fn:dataset_name in fn.split('_') and model_name in fn.split('_'),os.listdir())\n",
    "        records = np.concatenate([np.loadtxt(fn,delimiter=',') for fn in filenames],axis=0)\n",
    "        records = records[records[:,-1]>0]\n",
    "        print(filenames)\n",
    "        print(records.shape)\n",
    "        print(records[np.argmax(records[:,-1])])\n",
    "    except:\n",
    "        pass"
   ]
  },
  {
   "cell_type": "code",
   "execution_count": null,
   "metadata": {},
   "outputs": [],
   "source": []
  }
 ],
 "metadata": {
  "kernelspec": {
   "display_name": "Python 3",
   "language": "python",
   "name": "python3"
  },
  "language_info": {
   "codemirror_mode": {
    "name": "ipython",
    "version": 3
   },
   "file_extension": ".py",
   "mimetype": "text/x-python",
   "name": "python",
   "nbconvert_exporter": "python",
   "pygments_lexer": "ipython3",
   "version": "3.6.5"
  }
 },
 "nbformat": 4,
 "nbformat_minor": 2
}
