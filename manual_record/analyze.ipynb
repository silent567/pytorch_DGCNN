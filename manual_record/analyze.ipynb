{
 "cells": [
  {
   "cell_type": "code",
   "execution_count": 1,
   "metadata": {},
   "outputs": [],
   "source": [
    "import os\n",
    "import numpy as np\n",
    "import matplotlib.pyplot as plt"
   ]
  },
  {
   "cell_type": "code",
   "execution_count": 34,
   "metadata": {},
   "outputs": [
    {
     "name": "stdout",
     "output_type": "stream",
     "text": [
      "ENZYMES\n",
      "<filter object at 0x7f8d20e8a438>\n",
      "(32, 13)\n",
      "[1.00000000e-04 2.00000000e+02 1.00000000e-06 0.00000000e+00\n",
      " 1.00000000e+00 1.00000000e+01 3.16227766e+00 3.00000000e+00\n",
      " 1.00000000e+00 1.00000000e+00 1.00000000e+00 1.00000000e+00\n",
      " 3.53333333e-01]\n"
     ]
    }
   ],
   "source": [
    "dataset_list = ['MUTAG','PTC','PROTEINS','NCI1','NCI109','COLLAB','IMDBBINARY','IMDBMULTI','DD','ENZYMES']\n",
    "dataset_name = dataset_list[9]\n",
    "print(dataset_name)\n",
    "model_name = 'FastMultiAttPool'\n",
    "filenames = filter(lambda fn:dataset_name in fn.split('_') and model_name in fn.split('_'),os.listdir())\n",
    "records = np.concatenate([np.loadtxt(fn,delimiter=',') for fn in filenames],axis=0)\n",
    "records = records[records[:,-1]>0]\n",
    "print(filenames)\n",
    "print(records.shape)\n",
    "print(records[np.argmax(records[:,-1])])"
   ]
  },
  {
   "cell_type": "code",
   "execution_count": null,
   "metadata": {},
   "outputs": [],
   "source": []
  }
 ],
 "metadata": {
  "kernelspec": {
   "display_name": "Python 3",
   "language": "python",
   "name": "python3"
  },
  "language_info": {
   "codemirror_mode": {
    "name": "ipython",
    "version": 3
   },
   "file_extension": ".py",
   "mimetype": "text/x-python",
   "name": "python",
   "nbconvert_exporter": "python",
   "pygments_lexer": "ipython3",
   "version": "3.6.5"
  }
 },
 "nbformat": 4,
 "nbformat_minor": 2
}
