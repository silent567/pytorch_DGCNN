{
 "cells": [
  {
   "cell_type": "code",
   "execution_count": 1,
   "metadata": {},
   "outputs": [],
   "source": [
    "import os\n",
    "import numpy as np\n",
    "import matplotlib.pyplot as plt"
   ]
  },
  {
   "cell_type": "code",
   "execution_count": 6,
   "metadata": {},
   "outputs": [
    {
     "name": "stdout",
     "output_type": "stream",
     "text": [
      "<filter object at 0x7f8f81b89b00>\n",
      "(1, 12)\n",
      "[3.16227766e-04 1.00000000e+02 1.00000000e-04 1.00000000e+00\n",
      " 0.00000000e+00 1.00000000e+01 3.16227766e+00 2.00000000e+00\n",
      " 0.00000000e+00 1.00000000e+00 1.00000000e+00 6.44417476e-01]\n"
     ]
    }
   ],
   "source": [
    "dataset_name = 'NCI1'\n",
    "filenames = filter(lambda fn:dataset_name in fn,os.listdir())\n",
    "records = np.concatenate([np.loadtxt(fn,delimiter=',') for fn in filenames],axis=0)\n",
    "records = records[records[:,-1]>0]\n",
    "print(filenames)\n",
    "print(records.shape)\n",
    "print(records[np.argmax(records[:,-1])])"
   ]
  },
  {
   "cell_type": "code",
   "execution_count": null,
   "metadata": {},
   "outputs": [],
   "source": []
  }
 ],
 "metadata": {
  "kernelspec": {
   "display_name": "Python 3",
   "language": "python",
   "name": "python3"
  },
  "language_info": {
   "codemirror_mode": {
    "name": "ipython",
    "version": 3
   },
   "file_extension": ".py",
   "mimetype": "text/x-python",
   "name": "python",
   "nbconvert_exporter": "python",
   "pygments_lexer": "ipython3",
   "version": "3.6.5"
  }
 },
 "nbformat": 4,
 "nbformat_minor": 2
}
